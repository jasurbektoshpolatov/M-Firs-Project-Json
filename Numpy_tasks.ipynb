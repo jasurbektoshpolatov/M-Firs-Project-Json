{
  "nbformat": 4,
  "nbformat_minor": 0,
  "metadata": {
    "colab": {
      "provenance": [],
      "collapsed_sections": [],
      "authorship_tag": "ABX9TyPHdq+mjAGuQDV6cQ063Gc/",
      "include_colab_link": true
    },
    "kernelspec": {
      "name": "python3",
      "display_name": "Python 3"
    },
    "language_info": {
      "name": "python"
    }
  },
  "cells": [
    {
      "cell_type": "markdown",
      "metadata": {
        "id": "view-in-github",
        "colab_type": "text"
      },
      "source": [
        "<a href=\"https://colab.research.google.com/github/jasurbektoshpolatov/M-Firs-Project-Json/blob/master/Numpy_tasks.ipynb\" target=\"_parent\"><img src=\"https://colab.research.google.com/assets/colab-badge.svg\" alt=\"Open In Colab\"/></a>"
      ]
    },
    {
      "cell_type": "code",
      "execution_count": 2,
      "metadata": {
        "id": "WUND24dYDyio"
      },
      "outputs": [],
      "source": [
        "# 1.Import the numpy package under the name np (★☆☆)\n",
        "import numpy as np"
      ]
    },
    {
      "cell_type": "code",
      "source": [
        "# 2.Print the numpy version and the configuration (★☆☆)\n",
        "np.__version__"
      ],
      "metadata": {
        "colab": {
          "base_uri": "https://localhost:8080/",
          "height": 35
        },
        "id": "le1XF5bVEsW1",
        "outputId": "49b26a96-1945-42f5-e6e0-f49abc6d1066"
      },
      "execution_count": null,
      "outputs": [
        {
          "output_type": "execute_result",
          "data": {
            "text/plain": [
              "'1.21.6'"
            ],
            "application/vnd.google.colaboratory.intrinsic+json": {
              "type": "string"
            }
          },
          "metadata": {},
          "execution_count": 17
        }
      ]
    },
    {
      "cell_type": "code",
      "source": [
        "# 3. Create a zero vector of size 10 (★☆☆)\n",
        "a = np.unique([1, 1, 2, 2, 3, 4, 4, 5, 5])\n",
        "a"
      ],
      "metadata": {
        "colab": {
          "base_uri": "https://localhost:8080/"
        },
        "id": "HnS1TLUIGD4v",
        "outputId": "96aed6d4-711e-4dc3-d8f4-145b36698241"
      },
      "execution_count": null,
      "outputs": [
        {
          "output_type": "execute_result",
          "data": {
            "text/plain": [
              "array([1, 2, 3, 4, 5])"
            ]
          },
          "metadata": {},
          "execution_count": 18
        }
      ]
    },
    {
      "cell_type": "code",
      "source": [
        "# 4. How to find the memory size of any array (★☆☆)\n",
        "a = np.zeros(10)\n",
        "a.size * a.itemsize"
      ],
      "metadata": {
        "colab": {
          "base_uri": "https://localhost:8080/"
        },
        "id": "ILE6OGKD0r0s",
        "outputId": "2afd0213-fd35-4fab-d2bf-23568dfa52bf"
      },
      "execution_count": null,
      "outputs": [
        {
          "output_type": "execute_result",
          "data": {
            "text/plain": [
              "80"
            ]
          },
          "metadata": {},
          "execution_count": 18
        }
      ]
    },
    {
      "cell_type": "code",
      "source": [
        "# 5. How to get the documentation of the numpy add function from the command line? (★☆☆)\n",
        "np.info"
      ],
      "metadata": {
        "colab": {
          "base_uri": "https://localhost:8080/"
        },
        "id": "SaLxPxgp2TQq",
        "outputId": "d781d5ae-0c4f-45eb-8311-b860214953d7"
      },
      "execution_count": null,
      "outputs": [
        {
          "output_type": "execute_result",
          "data": {
            "text/plain": [
              "<function numpy.info(object=None, maxwidth=76, output=<ipykernel.iostream.OutStream object at 0x7f5bc4dc7410>, toplevel='numpy')>"
            ]
          },
          "metadata": {},
          "execution_count": 20
        }
      ]
    },
    {
      "cell_type": "code",
      "source": [
        "# 6. Create a null vector of size 10 but the fifth value which is 1 (★☆☆)\n",
        "a = np.zeros(10)\n",
        "a[4] = 1\n",
        "a"
      ],
      "metadata": {
        "id": "Q-MpAIDy38Rg",
        "colab": {
          "base_uri": "https://localhost:8080/"
        },
        "outputId": "535d3f00-816d-4e0e-8973-0060b09df52f"
      },
      "execution_count": null,
      "outputs": [
        {
          "output_type": "execute_result",
          "data": {
            "text/plain": [
              "array([0., 0., 0., 0., 1., 0., 0., 0., 0., 0.])"
            ]
          },
          "metadata": {},
          "execution_count": 21
        }
      ]
    },
    {
      "cell_type": "code",
      "source": [
        "# 7. Create a vector with values ranging from 10 to 49 (★☆☆)\n",
        "# 8. Reverse a vector (first element becomes last) (★☆☆)\n",
        "a = np.arange(10, 49)\n",
        "print(a)\n",
        "a = a[::-1]\n",
        "print(f\"\\n{a}\") # To show you i have printed with format method!"
      ],
      "metadata": {
        "colab": {
          "base_uri": "https://localhost:8080/"
        },
        "id": "07o7LAzt8dRe",
        "outputId": "6b3f36cc-a4c0-4834-ae0c-cc9270626177"
      },
      "execution_count": null,
      "outputs": [
        {
          "output_type": "stream",
          "name": "stdout",
          "text": [
            "[10 11 12 13 14 15 16 17 18 19 20 21 22 23 24 25 26 27 28 29 30 31 32 33\n",
            " 34 35 36 37 38 39 40 41 42 43 44 45 46 47 48]\n",
            "\n",
            "[48 47 46 45 44 43 42 41 40 39 38 37 36 35 34 33 32 31 30 29 28 27 26 25\n",
            " 24 23 22 21 20 19 18 17 16 15 14 13 12 11 10]\n"
          ]
        }
      ]
    },
    {
      "cell_type": "code",
      "source": [
        "# 9. Create a 3x3 matrix with values ranging from 0 to 8 (★☆☆)\n",
        "a = np.mat([[1, 2, 3], [4, 5, 6], [4, 2, 6]])\n",
        "a.reshape(3, 3)"
      ],
      "metadata": {
        "colab": {
          "base_uri": "https://localhost:8080/"
        },
        "id": "iXbeDJaW-f5J",
        "outputId": "c3dfa8a5-3581-45ec-cbc3-f65eedddad09"
      },
      "execution_count": null,
      "outputs": [
        {
          "output_type": "execute_result",
          "data": {
            "text/plain": [
              "matrix([[1, 2, 3],\n",
              "        [4, 5, 6],\n",
              "        [4, 2, 6]])"
            ]
          },
          "metadata": {},
          "execution_count": 28
        }
      ]
    },
    {
      "cell_type": "code",
      "source": [
        "# 10. Find indices of non-zero elements from [1,2,0,0,4,0] (★☆☆)\n",
        "a = np.nonzero([1,2,0,0,4,0])   # nonzero method find with index numbers which does'nt have zero numbers\n",
        "a"
      ],
      "metadata": {
        "colab": {
          "base_uri": "https://localhost:8080/"
        },
        "id": "zfkXQyx09BWc",
        "outputId": "fe79ccbf-38eb-40da-e8c4-147003a3657d"
      },
      "execution_count": null,
      "outputs": [
        {
          "output_type": "execute_result",
          "data": {
            "text/plain": [
              "(array([0, 1, 4]),)"
            ]
          },
          "metadata": {},
          "execution_count": 23
        }
      ]
    },
    {
      "cell_type": "code",
      "source": [
        "# 11. Create a 3x3 identity matrix (★☆☆)\n",
        "a = np.identity(3)  \n",
        "a"
      ],
      "metadata": {
        "colab": {
          "base_uri": "https://localhost:8080/"
        },
        "id": "YG7WQYbZ_kYp",
        "outputId": "f3a3487f-3764-42eb-8923-9f3de03935bb"
      },
      "execution_count": null,
      "outputs": [
        {
          "output_type": "execute_result",
          "data": {
            "text/plain": [
              "array([[1., 0., 0.],\n",
              "       [0., 1., 0.],\n",
              "       [0., 0., 1.]])"
            ]
          },
          "metadata": {},
          "execution_count": 41
        }
      ]
    },
    {
      "cell_type": "code",
      "source": [
        "# 12. Create a 3x3x3 array with random values (★☆☆)\n",
        "a = np.random.random((3, 3, 3))\n",
        "print(a)\n",
        "a = np.random.randint(27, size=(3, 3, 3))\n",
        "print(f\"\\n{a}\")"
      ],
      "metadata": {
        "colab": {
          "base_uri": "https://localhost:8080/"
        },
        "id": "8ChHbZeIAeC_",
        "outputId": "8168aa08-cc0c-45aa-b256-868cb700e1f1"
      },
      "execution_count": null,
      "outputs": [
        {
          "output_type": "stream",
          "name": "stdout",
          "text": [
            "[[[0.62933996 0.80129434 0.24251073]\n",
            "  [0.51681031 0.86461665 0.40261836]\n",
            "  [0.9640692  0.00448657 0.5529326 ]]\n",
            "\n",
            " [[0.21379328 0.33289279 0.29033502]\n",
            "  [0.9223267  0.65755206 0.31438207]\n",
            "  [0.69673608 0.8057002  0.68956973]]\n",
            "\n",
            " [[0.901779   0.24692168 0.6378512 ]\n",
            "  [0.02895751 0.43851086 0.3510659 ]\n",
            "  [0.6580084  0.05025064 0.52598212]]]\n",
            "\n",
            "[[[26 14 17]\n",
            "  [25 13 26]\n",
            "  [19 21 21]]\n",
            "\n",
            " [[11 25 21]\n",
            "  [11 17 26]\n",
            "  [12  9 26]]\n",
            "\n",
            " [[26  8 20]\n",
            "  [22 12  0]\n",
            "  [16  6 14]]]\n"
          ]
        }
      ]
    },
    {
      "cell_type": "code",
      "source": [
        "# 13. Create a 10x10 array with random values and find the minimum and maximum values (★☆☆)\n",
        "a = np.random.random((10, 10))\n",
        "print(a.min())\n",
        "print(f\"\\n{a.max()}\")"
      ],
      "metadata": {
        "colab": {
          "base_uri": "https://localhost:8080/"
        },
        "id": "mugrToi3Asna",
        "outputId": "2491d42c-e161-4fbf-f3bc-db76df1e6335"
      },
      "execution_count": null,
      "outputs": [
        {
          "output_type": "stream",
          "name": "stdout",
          "text": [
            "0.056949658198722775\n",
            "\n",
            "0.9987905496038312\n"
          ]
        }
      ]
    },
    {
      "cell_type": "code",
      "source": [
        "# 14. Create a random vector of size 30 and find the mean value (★☆☆)\n",
        "a = np.random.random(30)\n",
        "a.mean()"
      ],
      "metadata": {
        "colab": {
          "base_uri": "https://localhost:8080/"
        },
        "id": "Ilc3kc3cA61r",
        "outputId": "b3c372e7-9354-477c-d140-5ca2a795aca6"
      },
      "execution_count": null,
      "outputs": [
        {
          "output_type": "execute_result",
          "data": {
            "text/plain": [
              "0.602242013459389"
            ]
          },
          "metadata": {},
          "execution_count": 36
        }
      ]
    },
    {
      "cell_type": "code",
      "source": [
        "# 15. Create a 2d array with 1 on the border and 0 inside (★☆☆)\n",
        "a = np.ones((5, 5))\n",
        "a[1:-1, 1:-1] = 0\n",
        "a"
      ],
      "metadata": {
        "colab": {
          "base_uri": "https://localhost:8080/"
        },
        "id": "-0kC8Jn4PHV4",
        "outputId": "496328c3-6179-44fc-ec95-237a14821596"
      },
      "execution_count": null,
      "outputs": [
        {
          "output_type": "execute_result",
          "data": {
            "text/plain": [
              "array([[1., 1., 1., 1., 1.],\n",
              "       [1., 0., 0., 0., 1.],\n",
              "       [1., 0., 0., 0., 1.],\n",
              "       [1., 0., 0., 0., 1.],\n",
              "       [1., 1., 1., 1., 1.]])"
            ]
          },
          "metadata": {},
          "execution_count": 37
        }
      ]
    },
    {
      "cell_type": "code",
      "source": [
        "# 16. How to add a border (filled with 0's) around an existing array? (★☆☆)\n",
        "a = [326, 327, 328, 329, 330]\n",
        "np.pad(a, (3, 3), \"reflect\", reflect_type = \"odd\") # maximum, minimum, symmetric, # symmetric_type = \"odd\" median, reflect # reflect_type = \"odd\", wrap\n"
      ],
      "metadata": {
        "id": "4Ujp-RCbwjcW",
        "colab": {
          "base_uri": "https://localhost:8080/"
        },
        "outputId": "36b1a58f-5dab-4f50-d239-4a19216d7443"
      },
      "execution_count": null,
      "outputs": [
        {
          "output_type": "execute_result",
          "data": {
            "text/plain": [
              "array([323, 324, 325, 326, 327, 328, 329, 330, 331, 332, 333])"
            ]
          },
          "metadata": {},
          "execution_count": 38
        }
      ]
    },
    {
      "cell_type": "code",
      "source": [
        "# 17. What is the result of the following expression? (★☆☆)\n",
        "0 * np.nan\n",
        "np.nan == np.nan\n",
        "np.inf > np.nan\n",
        "np.nan - np.nan\n",
        "np.nan in set([np.nan])\n",
        "0.3 == 3 * 0.1"
      ],
      "metadata": {
        "colab": {
          "base_uri": "https://localhost:8080/"
        },
        "id": "eDRpk5LVIyWb",
        "outputId": "a38c6192-20f3-440b-c246-4701324fedf0"
      },
      "execution_count": null,
      "outputs": [
        {
          "output_type": "execute_result",
          "data": {
            "text/plain": [
              "False"
            ]
          },
          "metadata": {},
          "execution_count": 39
        }
      ]
    },
    {
      "cell_type": "code",
      "source": [
        "# 18. Create a 5x5 matrix with values 1,2,3,4 just below the diagonal (★☆☆)\n",
        "a = np.mat([[1, 2, 3, 4, 1], [1, 2, 3, 4, 1], [1, 2, 3, 4, 1], [1, 2, 3, 4, 1], [1, 2, 3, 4, 1]])\n",
        "b = np.diag(a)\n",
        "b"
      ],
      "metadata": {
        "colab": {
          "base_uri": "https://localhost:8080/"
        },
        "id": "wTEw-j9TPNXs",
        "outputId": "48e5c3ca-87ce-42a1-c0b8-4af262f075c8"
      },
      "execution_count": null,
      "outputs": [
        {
          "output_type": "execute_result",
          "data": {
            "text/plain": [
              "array([1, 2, 3, 4, 1])"
            ]
          },
          "metadata": {},
          "execution_count": 40
        }
      ]
    },
    {
      "cell_type": "code",
      "source": [
        "# 19. Create a 8x8 matrix and fill it with a checkerboard pattern (★☆☆)\n",
        "a = np.mat([[2, 3, 4, 5, 6, 4, 2, 4], [4, 5, 3, 6, 2, 3, 1, 7], [3, 9, 8, 4, 7, 5, 2, 8], [7, 3, 4, 5, 2, 9, 2, 6], [2, 3, 4, 6, 5, 2, 5, 6], [8, 7, 4, 9, 3, 6, 3, 2], [2, 3, 8, 9, 4, 5, 7, 9], [8, 5, 2, 3, 9, 2, 7, 3]])\n",
        "b = np.array(a[::2])\n",
        "b"
      ],
      "metadata": {
        "colab": {
          "base_uri": "https://localhost:8080/"
        },
        "id": "iC2W8MxFQF2r",
        "outputId": "6757fadb-960c-4ccd-cbcf-bf61016aa8dd"
      },
      "execution_count": null,
      "outputs": [
        {
          "output_type": "execute_result",
          "data": {
            "text/plain": [
              "array([[2, 3, 4, 5, 6, 4, 2, 4],\n",
              "       [3, 9, 8, 4, 7, 5, 2, 8],\n",
              "       [2, 3, 4, 6, 5, 2, 5, 6],\n",
              "       [2, 3, 8, 9, 4, 5, 7, 9]])"
            ]
          },
          "metadata": {},
          "execution_count": 47
        }
      ]
    },
    {
      "cell_type": "code",
      "source": [
        "# 20. Consider a (6,7,8) shape array, what is the index (x,y,z) of the 100th element? (★☆☆)\n",
        "a = np.unravel_index(100, (6, 7, 8))\n",
        "a"
      ],
      "metadata": {
        "colab": {
          "base_uri": "https://localhost:8080/"
        },
        "id": "GLIXlHogRXTp",
        "outputId": "bfb9f0e1-3d74-4a65-ab19-1777e93bf6d5"
      },
      "execution_count": null,
      "outputs": [
        {
          "output_type": "execute_result",
          "data": {
            "text/plain": [
              "(1, 5, 4)"
            ]
          },
          "metadata": {},
          "execution_count": 50
        }
      ]
    },
    {
      "cell_type": "code",
      "source": [
        "# 21. Create a checkerboard 8x8 matrix using the tile function (★☆☆)\n",
        "a = np.mat([[2, 3, 4, 5, 6], [4, 5, 3, 6, 2], [3, 9, 8, 4, 7], [7, 3, 4, 5, 2], [2, 3, 4, 6, 5]])\n",
        "np.tile(a, 2)"
      ],
      "metadata": {
        "colab": {
          "base_uri": "https://localhost:8080/"
        },
        "id": "3FPhO1jUVqmm",
        "outputId": "220778e5-28d4-46b4-efe0-6cab42847fd7"
      },
      "execution_count": null,
      "outputs": [
        {
          "output_type": "execute_result",
          "data": {
            "text/plain": [
              "matrix([[2, 3, 4, 5, 6, 2, 3, 4, 5, 6],\n",
              "        [4, 5, 3, 6, 2, 4, 5, 3, 6, 2],\n",
              "        [3, 9, 8, 4, 7, 3, 9, 8, 4, 7],\n",
              "        [7, 3, 4, 5, 2, 7, 3, 4, 5, 2],\n",
              "        [2, 3, 4, 6, 5, 2, 3, 4, 6, 5]])"
            ]
          },
          "metadata": {},
          "execution_count": 42
        }
      ]
    },
    {
      "cell_type": "code",
      "source": [
        "# 22. Normalize a 5x5 random matrix (★☆☆) hint: (x -mean)/std\n",
        "a = np.random.random((5, 5))\n",
        "c = np.mat(a)\n",
        "c.mean()"
      ],
      "metadata": {
        "colab": {
          "base_uri": "https://localhost:8080/"
        },
        "id": "yyq4tsAZRMpv",
        "outputId": "e6ecf081-c975-4c0b-d14a-a88e7e4c1b57"
      },
      "execution_count": null,
      "outputs": [
        {
          "output_type": "execute_result",
          "data": {
            "text/plain": [
              "0.5980693158925424"
            ]
          },
          "metadata": {},
          "execution_count": 55
        }
      ]
    },
    {
      "cell_type": "code",
      "source": [
        "# 23. Create a custom dtype that describes a color as four unsigned bytes (RGBA) (★☆☆)\n",
        "a = np.dtype([(\"r\", np.ubyte, 1),\n",
        "              (\"g\", np.ubyte, 1),\n",
        "              (\"b\", np.ubyte, 1),\n",
        "              (\"a\", np.ubyte, 1)])\n",
        "a"
      ],
      "metadata": {
        "id": "LB47LQektzGu",
        "colab": {
          "base_uri": "https://localhost:8080/"
        },
        "outputId": "b4837103-232b-4bb2-881d-cf8d2e1484f3"
      },
      "execution_count": null,
      "outputs": [
        {
          "output_type": "stream",
          "name": "stderr",
          "text": [
            "/usr/local/lib/python3.7/dist-packages/ipykernel_launcher.py:5: FutureWarning: Passing (type, 1) or '1type' as a synonym of type is deprecated; in a future version of numpy, it will be understood as (type, (1,)) / '(1,)type'.\n",
            "  \"\"\"\n"
          ]
        },
        {
          "output_type": "execute_result",
          "data": {
            "text/plain": [
              "dtype([('r', 'u1'), ('g', 'u1'), ('b', 'u1'), ('a', 'u1')])"
            ]
          },
          "metadata": {},
          "execution_count": 3
        }
      ]
    },
    {
      "cell_type": "code",
      "source": [
        "# 24. Multiply a 5x3 matrix by a 3x2 matrix (real matrix product) (★☆☆)\n",
        "a = np.mat([[2, 3, 4], [3, 5, 6], [6, 2, 3], [4, 2, 5], [5, 3, 2]])\n",
        "b = np.mat([[4, 5], [2, 3], [3, 4]])\n",
        "c = np.dot(a, b)\n",
        "c"
      ],
      "metadata": {
        "colab": {
          "base_uri": "https://localhost:8080/"
        },
        "id": "UtkRBkmkBzhL",
        "outputId": "91bf539d-b7e1-464a-a891-8ca806a3aa52"
      },
      "execution_count": null,
      "outputs": [
        {
          "output_type": "execute_result",
          "data": {
            "text/plain": [
              "matrix([[26, 35],\n",
              "        [40, 54],\n",
              "        [37, 48],\n",
              "        [35, 46],\n",
              "        [32, 42]])"
            ]
          },
          "metadata": {},
          "execution_count": 14
        }
      ]
    },
    {
      "cell_type": "code",
      "source": [
        "# 25. Given a 1D array, negate all elements which are between 3 and 8, in place. (★☆☆)\n",
        "a = np.arange(11)\n",
        "a[(a >= 3) & (a <= 8)] *=-1\n",
        "a"
      ],
      "metadata": {
        "colab": {
          "base_uri": "https://localhost:8080/"
        },
        "id": "2WaTz40BCoX5",
        "outputId": "a340e736-a69e-49cd-df1c-b3810f14f808"
      },
      "execution_count": null,
      "outputs": [
        {
          "output_type": "execute_result",
          "data": {
            "text/plain": [
              "array([ 0,  1,  2, -3, -4, -5, -6, -7, -8,  9, 10])"
            ]
          },
          "metadata": {},
          "execution_count": 28
        }
      ]
    },
    {
      "cell_type": "code",
      "source": [
        "# 26. What is the output of the following script? (★☆☆)\n",
        "print(sum(range(5),-1))\n",
        "from numpy import *\n",
        "print(sum(range(5),-1))"
      ],
      "metadata": {
        "colab": {
          "base_uri": "https://localhost:8080/"
        },
        "id": "sEoQnk83FbdM",
        "outputId": "46d66b53-2dd8-4a0f-f112-712d8c6c3c1e"
      },
      "execution_count": null,
      "outputs": [
        {
          "output_type": "stream",
          "name": "stdout",
          "text": [
            "9\n",
            "10\n"
          ]
        }
      ]
    },
    {
      "cell_type": "code",
      "source": [
        "# 27. Consider an integer vector Z, which of these expressions are legal? (★☆☆)\n",
        "Z = np.arange(3)\n",
        "a = Z**Z\n",
        "print(f\"{a}\\n\")\n",
        "b = 2 << Z >> 2\n",
        "print(f\"{b}\\n\")\n",
        "c = Z <- Z\n",
        "print(f\"{c}\\n\")\n",
        "d = 1j*Z\n",
        "print(f\"{d}\\n\")\n",
        "e = Z/1/1\n",
        "print(e)\n",
        "# Z<Z>Z #ValueError"
      ],
      "metadata": {
        "colab": {
          "base_uri": "https://localhost:8080/"
        },
        "id": "oke-ut8xHnAR",
        "outputId": "82690aa3-62e1-4cda-8334-28e7d7039733"
      },
      "execution_count": null,
      "outputs": [
        {
          "output_type": "stream",
          "name": "stdout",
          "text": [
            "[1 1 4]\n",
            "\n",
            "[0 1 2]\n",
            "\n",
            "[False False False]\n",
            "\n",
            "[0.+0.j 0.+1.j 0.+2.j]\n",
            "\n",
            "[0. 1. 2.]\n"
          ]
        }
      ]
    },
    {
      "cell_type": "code",
      "source": [
        "# 28. What are the result of the following expressions? (★☆☆)\n",
        "a = np.array(0) / np.array(0)\n",
        "print(a)\n",
        "b = np.array(0) // np.array(0)\n",
        "print(b)\n",
        "c = np.array([np.nan]).astype(int).astype(float)\n",
        "print(c)"
      ],
      "metadata": {
        "colab": {
          "base_uri": "https://localhost:8080/"
        },
        "id": "-RxATQZuIIgn",
        "outputId": "aba7e262-fae0-4da3-d8e4-59c483fde570"
      },
      "execution_count": null,
      "outputs": [
        {
          "output_type": "stream",
          "name": "stdout",
          "text": [
            "nan\n",
            "0\n",
            "[-9.22337204e+18]\n"
          ]
        },
        {
          "output_type": "stream",
          "name": "stderr",
          "text": [
            "/usr/local/lib/python3.7/dist-packages/ipykernel_launcher.py:2: RuntimeWarning: invalid value encountered in true_divide\n",
            "  \n",
            "/usr/local/lib/python3.7/dist-packages/ipykernel_launcher.py:4: RuntimeWarning: divide by zero encountered in floor_divide\n",
            "  after removing the cwd from sys.path.\n"
          ]
        }
      ]
    },
    {
      "cell_type": "code",
      "source": [
        "# 29. How to round away from zero a float array? (★☆☆)\n",
        "a = np.array([23.35, 8.49])\n",
        "b = np.round(a, decimals = 1)\n",
        "b"
      ],
      "metadata": {
        "colab": {
          "base_uri": "https://localhost:8080/"
        },
        "id": "-HDIb1BWJ991",
        "outputId": "df054f38-5990-496e-dabc-9981b8088b89"
      },
      "execution_count": null,
      "outputs": [
        {
          "output_type": "execute_result",
          "data": {
            "text/plain": [
              "array([23.4,  8.5])"
            ]
          },
          "metadata": {},
          "execution_count": 62
        }
      ]
    },
    {
      "cell_type": "code",
      "source": [
        "# 30. How to find common values between two arrays? (★☆☆)\n",
        "a = np.array([2, 3])\n",
        "b = np.array([4, 2])\n",
        "c = np.intersect1d(a, b)\n",
        "c"
      ],
      "metadata": {
        "colab": {
          "base_uri": "https://localhost:8080/"
        },
        "id": "NZrYaRsALMSU",
        "outputId": "dbb16f4e-94c8-4894-89a7-4533123df51c"
      },
      "execution_count": null,
      "outputs": [
        {
          "output_type": "execute_result",
          "data": {
            "text/plain": [
              "array([2])"
            ]
          },
          "metadata": {},
          "execution_count": 64
        }
      ]
    },
    {
      "cell_type": "code",
      "source": [
        "# 31. How to ignore all numpy warnings (not recommended)? (★☆☆)\n",
        "a = np.ones(1) / 0\n",
        "np.seterr(all=\"ignore\")\n",
        "a"
      ],
      "metadata": {
        "colab": {
          "base_uri": "https://localhost:8080/"
        },
        "id": "mjuzPa3LLeAD",
        "outputId": "d05b5a11-66b3-42a2-d0a9-f7ead3201719"
      },
      "execution_count": null,
      "outputs": [
        {
          "output_type": "execute_result",
          "data": {
            "text/plain": [
              "array([inf])"
            ]
          },
          "metadata": {},
          "execution_count": 78
        }
      ]
    },
    {
      "cell_type": "code",
      "source": [
        "# 32. Is the following expressions true? (★☆☆)\n",
        "np.sqrt(-1) == np.emath.sqrt(-1)"
      ],
      "metadata": {
        "id": "5pTSqBRVM-qZ",
        "colab": {
          "base_uri": "https://localhost:8080/"
        },
        "outputId": "a51bfb6e-dede-4623-82f3-14b2f099b135"
      },
      "execution_count": null,
      "outputs": [
        {
          "output_type": "execute_result",
          "data": {
            "text/plain": [
              "False"
            ]
          },
          "metadata": {},
          "execution_count": 79
        }
      ]
    },
    {
      "cell_type": "code",
      "source": [
        "# 33. How to get the dates of yesterday, today and tomorrow? (★☆☆)\n",
        "today = np.datetime64(\"today\", \"D\")\n",
        "print(f\"Today - {today}\")\n",
        "yesterday = np.datetime64(\"today\", \"D\") - np.timedelta64(1, \"D\")\n",
        "print(f\"Yesterday - {yesterday}\")\n",
        "tomorrow = np.datetime64(\"today\", \"D\") + np.timedelta64(1, \"D\")\n",
        "print(f\"Tomorrow - {tomorrow}\")"
      ],
      "metadata": {
        "colab": {
          "base_uri": "https://localhost:8080/"
        },
        "id": "Q0f09tYccblz",
        "outputId": "7d1b912e-1f53-452c-abe5-2d3cf015d698"
      },
      "execution_count": null,
      "outputs": [
        {
          "output_type": "stream",
          "name": "stdout",
          "text": [
            "Today - 2022-10-02\n",
            "Yesterday - 2022-10-01\n",
            "Tomorrow - 2022-10-03\n"
          ]
        }
      ]
    },
    {
      "cell_type": "code",
      "source": [
        "# 34. How to get all the dates corresponding to the month of July 2016? (★★☆)\n",
        "july = (\"July, 2016\")\n",
        "print(np.arange(\"2016-07\", \"2016-08\",  dtype=\"datetime64[D]\"))"
      ],
      "metadata": {
        "colab": {
          "base_uri": "https://localhost:8080/"
        },
        "id": "8Mn7XscLc4TG",
        "outputId": "6c0c24ee-22a4-4ec5-e687-9f40a221e78c"
      },
      "execution_count": null,
      "outputs": [
        {
          "output_type": "stream",
          "name": "stdout",
          "text": [
            "['2016-07-01' '2016-07-02' '2016-07-03' '2016-07-04' '2016-07-05'\n",
            " '2016-07-06' '2016-07-07' '2016-07-08' '2016-07-09' '2016-07-10'\n",
            " '2016-07-11' '2016-07-12' '2016-07-13' '2016-07-14' '2016-07-15'\n",
            " '2016-07-16' '2016-07-17' '2016-07-18' '2016-07-19' '2016-07-20'\n",
            " '2016-07-21' '2016-07-22' '2016-07-23' '2016-07-24' '2016-07-25'\n",
            " '2016-07-26' '2016-07-27' '2016-07-28' '2016-07-29' '2016-07-30'\n",
            " '2016-07-31']\n"
          ]
        }
      ]
    },
    {
      "cell_type": "code",
      "source": [
        "# 35. How to compute ((A+B)*(-A/2)) in place (without copy)? (★★☆)\n",
        "a = np.ones(3) * 1\n",
        "b = np.ones(3) * 2\n",
        "np.add(a,b,out=b)\n",
        "\n",
        "np.divide(a,2,out=a)\n",
        "\n",
        "np.negative(a,out=a)\n",
        "\n",
        "np.multiply(a,a,out=a)"
      ],
      "metadata": {
        "colab": {
          "base_uri": "https://localhost:8080/"
        },
        "id": "aPxJiGw6gQUS",
        "outputId": "9d403aec-de93-44f5-fc0a-5c83a9726d86"
      },
      "execution_count": null,
      "outputs": [
        {
          "output_type": "execute_result",
          "data": {
            "text/plain": [
              "array([0.25, 0.25, 0.25])"
            ]
          },
          "metadata": {},
          "execution_count": 104
        }
      ]
    },
    {
      "cell_type": "code",
      "source": [
        "# 36. Extract the integer part of a random array of positive numbers using 4 different methods (★★☆)\n",
        "s = np.random.uniform(0, 10, 10)\n",
        "\n",
        "first_method = s - s % 1\n",
        "print(first_method)\n",
        "\n",
        "second_method = np.floor(s)\n",
        "print(second_method)\n",
        "\n",
        "third_method = s.astype(int)\n",
        "print(third_method)\n",
        "\n",
        "fourth_method = np.trunc(s)\n",
        "print(fourth_method)"
      ],
      "metadata": {
        "colab": {
          "base_uri": "https://localhost:8080/"
        },
        "id": "JzT3IhQQhzBA",
        "outputId": "7cdfabad-9601-4f67-85b1-b822b833044b"
      },
      "execution_count": null,
      "outputs": [
        {
          "output_type": "stream",
          "name": "stdout",
          "text": [
            "[7. 9. 4. 8. 6. 6. 6. 1. 6. 8.]\n",
            "[7. 9. 4. 8. 6. 6. 6. 1. 6. 8.]\n",
            "[7 9 4 8 6 6 6 1 6 8]\n",
            "[7. 9. 4. 8. 6. 6. 6. 1. 6. 8.]\n"
          ]
        }
      ]
    },
    {
      "cell_type": "code",
      "source": [
        "# 37. Create a 5x5 matrix with row values ranging from 0 to 4 (★★☆)\n",
        "a = np.zeros((5, 5))\n",
        "print(f\"{a}\\n\")\n",
        "a += np.arange(5)\n",
        "print(a)"
      ],
      "metadata": {
        "colab": {
          "base_uri": "https://localhost:8080/"
        },
        "id": "9LmPgTafkKSJ",
        "outputId": "57e11e09-3604-433b-a60d-c69523986c3f"
      },
      "execution_count": null,
      "outputs": [
        {
          "output_type": "stream",
          "name": "stdout",
          "text": [
            "[[0. 0. 0. 0. 0.]\n",
            " [0. 0. 0. 0. 0.]\n",
            " [0. 0. 0. 0. 0.]\n",
            " [0. 0. 0. 0. 0.]\n",
            " [0. 0. 0. 0. 0.]]\n",
            "\n",
            "[[0. 1. 2. 3. 4.]\n",
            " [0. 1. 2. 3. 4.]\n",
            " [0. 1. 2. 3. 4.]\n",
            " [0. 1. 2. 3. 4.]\n",
            " [0. 1. 2. 3. 4.]]\n"
          ]
        }
      ]
    },
    {
      "cell_type": "code",
      "source": [
        "# 38. Consider a generator function that generates 10 integers and use it to build an array (★☆☆)\n",
        "def generate():\n",
        "  for i in range(15):\n",
        "    yield i\n",
        "a = np.fromiter(generate(), dtype = \"float\", count=-1)\n",
        "print(a)"
      ],
      "metadata": {
        "colab": {
          "base_uri": "https://localhost:8080/"
        },
        "id": "Y-Yo_9I2ny_h",
        "outputId": "01c19bd0-60c2-4b27-d2b9-2276278eacb3"
      },
      "execution_count": null,
      "outputs": [
        {
          "output_type": "stream",
          "name": "stdout",
          "text": [
            "[ 0.  1.  2.  3.  4.  5.  6.  7.  8.  9. 10. 11. 12. 13. 14.]\n"
          ]
        }
      ]
    },
    {
      "cell_type": "code",
      "source": [
        "# 39. Create a vector of size 10 with values ranging from 0 to 1, both excluded (★★☆)\n",
        "a = np.linspace(0, 1, 12, endpoint = False) [1:] \n",
        "a"
      ],
      "metadata": {
        "colab": {
          "base_uri": "https://localhost:8080/"
        },
        "id": "3zrxSF91pnk6",
        "outputId": "8335598a-1fe7-4326-f903-908cd3929096"
      },
      "execution_count": null,
      "outputs": [
        {
          "output_type": "execute_result",
          "data": {
            "text/plain": [
              "array([0.08333333, 0.16666667, 0.25      , 0.33333333, 0.41666667,\n",
              "       0.5       , 0.58333333, 0.66666667, 0.75      , 0.83333333,\n",
              "       0.91666667])"
            ]
          },
          "metadata": {},
          "execution_count": 148
        }
      ]
    },
    {
      "cell_type": "code",
      "source": [
        "# 40. Create a random vector of size 10 and sort it (★★☆)\n",
        "a = random.random(10)\n",
        "b = np.sort(a)\n",
        "b"
      ],
      "metadata": {
        "colab": {
          "base_uri": "https://localhost:8080/"
        },
        "id": "KPQ3OmUm3D9l",
        "outputId": "948aadf3-14bb-48b9-9470-8dedde92b85f"
      },
      "execution_count": null,
      "outputs": [
        {
          "output_type": "execute_result",
          "data": {
            "text/plain": [
              "array([0.07955173, 0.16113106, 0.20662899, 0.21561187, 0.42540187,\n",
              "       0.47352903, 0.51945783, 0.79990618, 0.81398826, 0.8491441 ])"
            ]
          },
          "metadata": {},
          "execution_count": 150
        }
      ]
    },
    {
      "cell_type": "code",
      "source": [
        "# 41. How to sum a small array faster than np.sum? (★★☆)\n",
        "a = np.array([2, 3, 4, 5])\n",
        "b = np.add.reduce(a)\n",
        "b"
      ],
      "metadata": {
        "colab": {
          "base_uri": "https://localhost:8080/"
        },
        "id": "EXUCk5UL6scp",
        "outputId": "a21cecc0-6052-45af-ec85-026bac55f693"
      },
      "execution_count": null,
      "outputs": [
        {
          "output_type": "execute_result",
          "data": {
            "text/plain": [
              "14"
            ]
          },
          "metadata": {},
          "execution_count": 151
        }
      ]
    },
    {
      "cell_type": "code",
      "source": [
        "# 42. Consider two random array A and B, check if they are equal (★★☆)\n",
        "a = np.random.randint(1, 2, 5)\n",
        "b = np.random.randint(1, 2, 5)\n",
        "c = np.allclose(a, b)\n",
        "print(c)\n",
        "d = np.array_equal(a, b)\n",
        "print(d)"
      ],
      "metadata": {
        "colab": {
          "base_uri": "https://localhost:8080/"
        },
        "id": "iXd3AINZ7I6p",
        "outputId": "b4c7b4a4-1419-4aaa-9480-02f1215a6e0b"
      },
      "execution_count": null,
      "outputs": [
        {
          "output_type": "stream",
          "name": "stdout",
          "text": [
            "True\n",
            "True\n"
          ]
        }
      ]
    },
    {
      "cell_type": "code",
      "source": [
        "# 43. Make an array immutable (read-only) (★★☆)\n",
        "a = np.array([2, 3, 4])\n",
        "b = a.flags.writeable\n",
        "b"
      ],
      "metadata": {
        "colab": {
          "base_uri": "https://localhost:8080/"
        },
        "id": "ud2-N3ue70oP",
        "outputId": "d255172a-8604-4048-a270-8faae639bf0f"
      },
      "execution_count": null,
      "outputs": [
        {
          "output_type": "execute_result",
          "data": {
            "text/plain": [
              "True"
            ]
          },
          "metadata": {},
          "execution_count": 172
        }
      ]
    },
    {
      "cell_type": "code",
      "source": [
        "# 44. Consider a random 10x2 matrix representing cartesian coordinates, convert them to polar coordinates (★★☆)\n",
        "a = np.random.random((10, 2))\n",
        "b, c = a[:, 0], a[:, 1]\n",
        "d = np.sqrt(b**2, c**2)\n",
        "print(d)\n",
        "e = np.arctan2(b, c)\n",
        "print(e)"
      ],
      "metadata": {
        "colab": {
          "base_uri": "https://localhost:8080/"
        },
        "id": "QzCqWxOT9Iy1",
        "outputId": "868a95c6-1b9a-4f82-ebed-51589d86ac31"
      },
      "execution_count": null,
      "outputs": [
        {
          "output_type": "stream",
          "name": "stdout",
          "text": [
            "[0.79834042 0.53752353 0.46911527 0.50824584 0.33809813 0.63745424\n",
            " 0.12681228 0.54261796 0.59251731 0.48999944]\n",
            "[0.94290608 0.57274958 1.20206638 1.5691581  1.53555797 0.66044511\n",
            " 0.55197246 1.37360695 0.64684128 1.42384617]\n"
          ]
        }
      ]
    },
    {
      "cell_type": "code",
      "source": [
        "# 45. Create random vector of size 10 and replace the maximum value by 0 (★★☆)\n",
        "a = random.random((10))\n",
        "print(max(a))\n",
        "b = a[a.argmax()] = 0\n",
        "print(b)"
      ],
      "metadata": {
        "colab": {
          "base_uri": "https://localhost:8080/"
        },
        "id": "MfeVIuFN-Dkn",
        "outputId": "afe2aee3-e902-4b64-a443-9ba91398a5cd"
      },
      "execution_count": null,
      "outputs": [
        {
          "output_type": "stream",
          "name": "stdout",
          "text": [
            "0.7967831737145343\n",
            "0\n"
          ]
        }
      ]
    },
    {
      "cell_type": "code",
      "source": [
        "# 46. Create a structured array with `x` and `y` coordinates covering the [0,1]x[0,1] area (★★☆)\n",
        "a = np.zeros((5, 5), [(\"x\", float), (\"y\", float)])\n",
        "a[\"x\"], a[\"y\"] = np.meshgrid(np.linspace(0, 1, 5)), np.linspace(0, 1, 5)\n",
        "print(a)"
      ],
      "metadata": {
        "id": "3hYy7aXwB5ko",
        "colab": {
          "base_uri": "https://localhost:8080/"
        },
        "outputId": "7bcfde46-b7cd-45e3-c332-87852a6d4ad1"
      },
      "execution_count": 20,
      "outputs": [
        {
          "output_type": "stream",
          "name": "stdout",
          "text": [
            "[[(0.  , 0.  ) (0.25, 0.25) (0.5 , 0.5 ) (0.75, 0.75) (1.  , 1.  )]\n",
            " [(0.  , 0.  ) (0.25, 0.25) (0.5 , 0.5 ) (0.75, 0.75) (1.  , 1.  )]\n",
            " [(0.  , 0.  ) (0.25, 0.25) (0.5 , 0.5 ) (0.75, 0.75) (1.  , 1.  )]\n",
            " [(0.  , 0.  ) (0.25, 0.25) (0.5 , 0.5 ) (0.75, 0.75) (1.  , 1.  )]\n",
            " [(0.  , 0.  ) (0.25, 0.25) (0.5 , 0.5 ) (0.75, 0.75) (1.  , 1.  )]]\n"
          ]
        }
      ]
    },
    {
      "cell_type": "code",
      "source": [
        "# 47. Given two arrays, X and Y, construct the Cauchy matrix C (Cij =1/(xi - yj)) (★★☆)\n",
        "x = np.arange(10)\n",
        "y = x + 0.5\n",
        "a = 1.0 / np.subtract.outer(x, y)\n",
        "print(np.linalg.det(a))"
      ],
      "metadata": {
        "id": "MU5VXTGVfvmU",
        "colab": {
          "base_uri": "https://localhost:8080/"
        },
        "outputId": "6aa8e784-7341-4c18-a731-29ab2b4cb81d"
      },
      "execution_count": 4,
      "outputs": [
        {
          "output_type": "stream",
          "name": "stdout",
          "text": [
            "33961.93294480236\n"
          ]
        }
      ]
    },
    {
      "cell_type": "code",
      "source": [
        "# 48. Print the minimum and maximum representable value for each numpy scalar type (★★☆)\n",
        "for i in [np.int8, np.int16, np.int32, np.int64]:\n",
        "  print(np.iinfo(i))\n",
        "for j in [np.float32, np.float64]:\n",
        "  print(np.finfo(j))"
      ],
      "metadata": {
        "colab": {
          "base_uri": "https://localhost:8080/"
        },
        "id": "mn_p6futWvFP",
        "outputId": "56f6e27a-3f40-4da9-8bab-399cd9fe92f6"
      },
      "execution_count": 12,
      "outputs": [
        {
          "output_type": "stream",
          "name": "stdout",
          "text": [
            "Machine parameters for int8\n",
            "---------------------------------------------------------------\n",
            "min = -128\n",
            "max = 127\n",
            "---------------------------------------------------------------\n",
            "\n",
            "Machine parameters for int16\n",
            "---------------------------------------------------------------\n",
            "min = -32768\n",
            "max = 32767\n",
            "---------------------------------------------------------------\n",
            "\n",
            "Machine parameters for int32\n",
            "---------------------------------------------------------------\n",
            "min = -2147483648\n",
            "max = 2147483647\n",
            "---------------------------------------------------------------\n",
            "\n",
            "Machine parameters for int64\n",
            "---------------------------------------------------------------\n",
            "min = -9223372036854775808\n",
            "max = 9223372036854775807\n",
            "---------------------------------------------------------------\n",
            "\n",
            "Machine parameters for float32\n",
            "---------------------------------------------------------------\n",
            "precision =   6   resolution = 1.0000000e-06\n",
            "machep =    -23   eps =        1.1920929e-07\n",
            "negep =     -24   epsneg =     5.9604645e-08\n",
            "minexp =   -126   tiny =       1.1754944e-38\n",
            "maxexp =    128   max =        3.4028235e+38\n",
            "nexp =        8   min =        -max\n",
            "---------------------------------------------------------------\n",
            "\n",
            "Machine parameters for float64\n",
            "---------------------------------------------------------------\n",
            "precision =  15   resolution = 1.0000000000000001e-15\n",
            "machep =    -52   eps =        2.2204460492503131e-16\n",
            "negep =     -53   epsneg =     1.1102230246251565e-16\n",
            "minexp =  -1022   tiny =       2.2250738585072014e-308\n",
            "maxexp =   1024   max =        1.7976931348623157e+308\n",
            "nexp =       11   min =        -max\n",
            "---------------------------------------------------------------\n",
            "\n"
          ]
        }
      ]
    },
    {
      "cell_type": "code",
      "source": [
        "# 49. How to print all the values of an array? (★★☆)\n",
        "a = np.arange(20)\n",
        "b = np.set_printoptions(threshold=np.inf)\n",
        "print(a)"
      ],
      "metadata": {
        "colab": {
          "base_uri": "https://localhost:8080/"
        },
        "id": "ftUcKHrgYSYt",
        "outputId": "bdf3a8eb-7325-4da6-cf51-bd10fd0534d6"
      },
      "execution_count": 18,
      "outputs": [
        {
          "output_type": "stream",
          "name": "stdout",
          "text": [
            "[ 0  1  2  3  4  5  6  7  8  9 10 11 12 13 14 15 16 17 18 19]\n"
          ]
        }
      ]
    },
    {
      "cell_type": "code",
      "source": [
        "# 50. How to find the closest value (to a given scalar) in a vector? (★★☆)\n",
        "a = np.arange(50)\n",
        "b = np.random.uniform(0, 50)\n",
        "c = (np.abs(a-b)).argmin()\n",
        "print(a[c])"
      ],
      "metadata": {
        "colab": {
          "base_uri": "https://localhost:8080/"
        },
        "id": "KKjxq5_naBcN",
        "outputId": "3a590147-b5aa-4032-ad22-b2fbad83c48c"
      },
      "execution_count": 30,
      "outputs": [
        {
          "output_type": "stream",
          "name": "stdout",
          "text": [
            "16\n"
          ]
        }
      ]
    }
  ]
}